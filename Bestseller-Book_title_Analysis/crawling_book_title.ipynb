{
 "cells": [
  {
   "cell_type": "code",
   "execution_count": 1,
   "metadata": {},
   "outputs": [],
   "source": [
    "import pandas as pd\n",
    "import os\n",
    "\n",
    "from selenium import webdriver\n",
    "import time\n",
    "\n",
    "from collections import defaultdict"
   ]
  },
  {
   "cell_type": "code",
   "execution_count": 2,
   "metadata": {},
   "outputs": [],
   "source": [
    "def select_year(x): # 1 - 22\n",
    "    driver.execute_script(f\"Year_Set({x})\")\n",
    "    \n",
    "    \n",
    "def select_month(x):\n",
    "    driver.execute_script(f\"Month_Set({x})\")\n",
    "    \n",
    "    \n",
    "def click_under_fifty():\n",
    "    driver.find_element_by_xpath('//*[@id=\"newbg_body\"]/div[3]/ul/li[3]/a').click()\n",
    "    \n",
    "    \n",
    "def unpack_name():\n",
    "    \"\"\"\n",
    "    unpack_name(driver.find_elements_by_xpath('//*[@id=\"Myform\"]/div')[1:51])\n",
    "    \"\"\"\n",
    "    pattern = r\"(.*)(\\(.*[가-횡]\\)) (\\|)\"\n",
    "    \n",
    "    result = list()\n",
    "    for i in driver.find_elements_by_xpath('//*[@id=\"Myform\"]/div')[1:51]:\n",
    "        title = i.find_element_by_class_name('bo3').text\n",
    "        td = i.find_elements_by_tag_name('ul')\n",
    "        book_info = [i.text for i in td]\n",
    "        writer = re.findall(pattern, book_info[0])\n",
    "        result += [title, writer]\n",
    "    return result\n"
   ]
  },
  {
   "cell_type": "code",
   "execution_count": 3,
   "metadata": {},
   "outputs": [],
   "source": [
    "year = 1998\n",
    "year_dict = dict()\n",
    "for i in range(1, 23):\n",
    "    year_dict[year + i]= i"
   ]
  },
  {
   "cell_type": "code",
   "execution_count": 4,
   "metadata": {},
   "outputs": [
    {
     "data": {
      "text/plain": [
       "dict_items([(1999, 1), (2000, 2), (2001, 3), (2002, 4), (2003, 5), (2004, 6), (2005, 7), (2006, 8), (2007, 9), (2008, 10), (2009, 11), (2010, 12), (2011, 13), (2012, 14), (2013, 15), (2014, 16), (2015, 17), (2016, 18), (2017, 19), (2018, 20), (2019, 21), (2020, 22)])"
      ]
     },
     "execution_count": 4,
     "metadata": {},
     "output_type": "execute_result"
    }
   ],
   "source": [
    "year_dict.items()"
   ]
  },
  {
   "cell_type": "code",
   "execution_count": 5,
   "metadata": {},
   "outputs": [],
   "source": [
    "# Monthly Best\n",
    "url = 'https://www.aladin.co.kr/shop/common/wbest.aspx?BranchType=1&BestType=MonthlyBest'"
   ]
  },
  {
   "cell_type": "code",
   "execution_count": 6,
   "metadata": {},
   "outputs": [],
   "source": [
    "options = webdriver.ChromeOptions()\n",
    "# options.add_argument('headless')"
   ]
  },
  {
   "cell_type": "code",
   "execution_count": null,
   "metadata": {},
   "outputs": [],
   "source": [
    "web = '/Users/eunbinpark/workspace/chromedriver'\n",
    "driver = webdriver.Chrome(web, options=options)\n",
    "driver.get(url)"
   ]
  },
  {
   "cell_type": "code",
   "execution_count": null,
   "metadata": {},
   "outputs": [],
   "source": [
    "import re"
   ]
  },
  {
   "cell_type": "code",
   "execution_count": null,
   "metadata": {},
   "outputs": [],
   "source": []
  },
  {
   "cell_type": "code",
   "execution_count": null,
   "metadata": {},
   "outputs": [],
   "source": [
    "//*[@id=\"Myform\"]/div[3]/table/tbody/tr/td[3]/table/tbody/tr[1]/td[1]/div[1]/ul/li[2]\n"
   ]
  },
  {
   "cell_type": "code",
   "execution_count": null,
   "metadata": {
    "scrolled": true
   },
   "outputs": [],
   "source": [
    "title_list = defaultdict(lambda : defaultdict(list))\n",
    "for yr_key in year_dict.keys():\n",
    "    select_year(yr_key)\n",
    "    print('=' * 10)    \n",
    "    print(yr_key)\n",
    "    for month in range(1, 13):\n",
    "        select_month(month)\n",
    "        time.sleep(0.5)\n",
    "        \n",
    "        try:\n",
    "            title_list[f\"{yr_key}\"][f'{month}'] = unpack_name()\n",
    "        except:\n",
    "            pass\n",
    "        \n",
    "        try:\n",
    "            click_under_fifty()\n",
    "        except:\n",
    "            pass\n",
    "        \n",
    "        try:\n",
    "            title_list[f\"{yr_key}\"][f'{month}'] = unpack_name()\n",
    "        except:\n",
    "            pass\n",
    "        print(month)"
   ]
  },
  {
   "cell_type": "code",
   "execution_count": null,
   "metadata": {},
   "outputs": [],
   "source": [
    "driver.close()"
   ]
  },
  {
   "cell_type": "code",
   "execution_count": null,
   "metadata": {},
   "outputs": [],
   "source": [
    "# //*[@id=\"Myform\"]/div[2]/table/tbody/tr/td[3]/table/tbody/tr[1]/td[1]/div[1]/ul/li[2]/a/b # 1위\n",
    "# //*[@id=\"Myform\"]/div[3]/table/tbody/tr/td[3]/table/tbody/tr[1]/td[1]/div[1]/ul/li[1]/a/b # 2위\n",
    "# //*[@id=\"Myform\"]/div[4]/table/tbody/tr/td[3]/table/tbody/tr[1]/td[1]/div[1]/ul/li[2]/a/b # 3위\n",
    "# //*[@id=\"Myform\"]/div[51]/table/tbody/tr/td[3]/table/tbody/tr[1]/td[1]/div[1]/ul/li[2]/a[1]/b # 50위"
   ]
  }
 ],
 "metadata": {
  "kernelspec": {
   "display_name": "Python 3",
   "language": "python",
   "name": "python3"
  },
  "language_info": {
   "codemirror_mode": {
    "name": "ipython",
    "version": 3
   },
   "file_extension": ".py",
   "mimetype": "text/x-python",
   "name": "python",
   "nbconvert_exporter": "python",
   "pygments_lexer": "ipython3",
   "version": "3.7.7"
  }
 },
 "nbformat": 4,
 "nbformat_minor": 4
}
