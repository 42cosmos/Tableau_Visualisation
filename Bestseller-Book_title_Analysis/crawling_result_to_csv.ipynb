{
 "cells": [
  {
   "cell_type": "code",
   "execution_count": 1,
   "metadata": {},
   "outputs": [],
   "source": [
    "import pandas as pd\n",
    "import os\n",
    "import pickle"
   ]
  },
  {
   "cell_type": "code",
   "execution_count": 2,
   "metadata": {},
   "outputs": [],
   "source": [
    "yrs = [i for i in range(1999, 2021)]"
   ]
  },
  {
   "cell_type": "code",
   "execution_count": 3,
   "metadata": {},
   "outputs": [],
   "source": [
    "result_df = list()\n",
    "for yr in yrs:\n",
    "    with open(f'./title_dict_pkl/{yr}-title.pkl', 'rb') as f:\n",
    "        data = pickle.load(f, encoding='utf-8')\n",
    "        \n",
    "    for i in data.items():\n",
    "\n",
    "        df = pd.DataFrame()\n",
    "\n",
    "        contents = i[1]\n",
    "        month = [i[0] for _ in range(len(contents) // 2)]\n",
    "\n",
    "        try:\n",
    "            titles = [contents[i] for i in range(len(contents)) if i % 2 == 0]\n",
    "            writers = [contents[i] for i in range(len(contents)) if i % 2 == 1]\n",
    "        except:\n",
    "            pass\n",
    "\n",
    "        df['year'] = [yr for _ in range(len(contents) // 2)]\n",
    "        df['month'] = month\n",
    "        df['title'] = titles\n",
    "        df['writer'] = writers\n",
    "\n",
    "\n",
    "    result_df.append(df)\n"
   ]
  },
  {
   "cell_type": "code",
   "execution_count": 4,
   "metadata": {
    "scrolled": true
   },
   "outputs": [],
   "source": [
    "pd.concat(result_df).to_csv('Book_title_1999to2020_in_aladin.csv', index = False)"
   ]
  }
 ],
 "metadata": {
  "kernelspec": {
   "display_name": "Python 3",
   "language": "python",
   "name": "python3"
  },
  "language_info": {
   "codemirror_mode": {
    "name": "ipython",
    "version": 3
   },
   "file_extension": ".py",
   "mimetype": "text/x-python",
   "name": "python",
   "nbconvert_exporter": "python",
   "pygments_lexer": "ipython3",
   "version": "3.7.7"
  }
 },
 "nbformat": 4,
 "nbformat_minor": 4
}
